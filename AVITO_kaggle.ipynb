{
  "nbformat": 4,
  "nbformat_minor": 0,
  "metadata": {
    "colab": {
      "name": "AVITO_kaggle.ipynb",
      "provenance": [],
      "collapsed_sections": [],
      "machine_shape": "hm"
    },
    "kernelspec": {
      "name": "python3",
      "display_name": "Python 3"
    }
  },
  "cells": [
    {
      "cell_type": "code",
      "metadata": {
        "id": "kzzwCjn3Bomf",
        "outputId": "e6d30593-521a-46a1-abf7-5c0809d65b4f",
        "colab": {
          "resources": {
            "http://localhost:8080/nbextensions/google.colab/files.js": {
              "data": "Ly8gQ29weXJpZ2h0IDIwMTcgR29vZ2xlIExMQwovLwovLyBMaWNlbnNlZCB1bmRlciB0aGUgQXBhY2hlIExpY2Vuc2UsIFZlcnNpb24gMi4wICh0aGUgIkxpY2Vuc2UiKTsKLy8geW91IG1heSBub3QgdXNlIHRoaXMgZmlsZSBleGNlcHQgaW4gY29tcGxpYW5jZSB3aXRoIHRoZSBMaWNlbnNlLgovLyBZb3UgbWF5IG9idGFpbiBhIGNvcHkgb2YgdGhlIExpY2Vuc2UgYXQKLy8KLy8gICAgICBodHRwOi8vd3d3LmFwYWNoZS5vcmcvbGljZW5zZXMvTElDRU5TRS0yLjAKLy8KLy8gVW5sZXNzIHJlcXVpcmVkIGJ5IGFwcGxpY2FibGUgbGF3IG9yIGFncmVlZCB0byBpbiB3cml0aW5nLCBzb2Z0d2FyZQovLyBkaXN0cmlidXRlZCB1bmRlciB0aGUgTGljZW5zZSBpcyBkaXN0cmlidXRlZCBvbiBhbiAiQVMgSVMiIEJBU0lTLAovLyBXSVRIT1VUIFdBUlJBTlRJRVMgT1IgQ09ORElUSU9OUyBPRiBBTlkgS0lORCwgZWl0aGVyIGV4cHJlc3Mgb3IgaW1wbGllZC4KLy8gU2VlIHRoZSBMaWNlbnNlIGZvciB0aGUgc3BlY2lmaWMgbGFuZ3VhZ2UgZ292ZXJuaW5nIHBlcm1pc3Npb25zIGFuZAovLyBsaW1pdGF0aW9ucyB1bmRlciB0aGUgTGljZW5zZS4KCi8qKgogKiBAZmlsZW92ZXJ2aWV3IEhlbHBlcnMgZm9yIGdvb2dsZS5jb2xhYiBQeXRob24gbW9kdWxlLgogKi8KKGZ1bmN0aW9uKHNjb3BlKSB7CmZ1bmN0aW9uIHNwYW4odGV4dCwgc3R5bGVBdHRyaWJ1dGVzID0ge30pIHsKICBjb25zdCBlbGVtZW50ID0gZG9jdW1lbnQuY3JlYXRlRWxlbWVudCgnc3BhbicpOwogIGVsZW1lbnQudGV4dENvbnRlbnQgPSB0ZXh0OwogIGZvciAoY29uc3Qga2V5IG9mIE9iamVjdC5rZXlzKHN0eWxlQXR0cmlidXRlcykpIHsKICAgIGVsZW1lbnQuc3R5bGVba2V5XSA9IHN0eWxlQXR0cmlidXRlc1trZXldOwogIH0KICByZXR1cm4gZWxlbWVudDsKfQoKLy8gTWF4IG51bWJlciBvZiBieXRlcyB3aGljaCB3aWxsIGJlIHVwbG9hZGVkIGF0IGEgdGltZS4KY29uc3QgTUFYX1BBWUxPQURfU0laRSA9IDEwMCAqIDEwMjQ7Ci8vIE1heCBhbW91bnQgb2YgdGltZSB0byBibG9jayB3YWl0aW5nIGZvciB0aGUgdXNlci4KY29uc3QgRklMRV9DSEFOR0VfVElNRU9VVF9NUyA9IDMwICogMTAwMDsKCmZ1bmN0aW9uIF91cGxvYWRGaWxlcyhpbnB1dElkLCBvdXRwdXRJZCkgewogIGNvbnN0IHN0ZXBzID0gdXBsb2FkRmlsZXNTdGVwKGlucHV0SWQsIG91dHB1dElkKTsKICBjb25zdCBvdXRwdXRFbGVtZW50ID0gZG9jdW1lbnQuZ2V0RWxlbWVudEJ5SWQob3V0cHV0SWQpOwogIC8vIENhY2hlIHN0ZXBzIG9uIHRoZSBvdXRwdXRFbGVtZW50IHRvIG1ha2UgaXQgYXZhaWxhYmxlIGZvciB0aGUgbmV4dCBjYWxsCiAgLy8gdG8gdXBsb2FkRmlsZXNDb250aW51ZSBmcm9tIFB5dGhvbi4KICBvdXRwdXRFbGVtZW50LnN0ZXBzID0gc3RlcHM7CgogIHJldHVybiBfdXBsb2FkRmlsZXNDb250aW51ZShvdXRwdXRJZCk7Cn0KCi8vIFRoaXMgaXMgcm91Z2hseSBhbiBhc3luYyBnZW5lcmF0b3IgKG5vdCBzdXBwb3J0ZWQgaW4gdGhlIGJyb3dzZXIgeWV0KSwKLy8gd2hlcmUgdGhlcmUgYXJlIG11bHRpcGxlIGFzeW5jaHJvbm91cyBzdGVwcyBhbmQgdGhlIFB5dGhvbiBzaWRlIGlzIGdvaW5nCi8vIHRvIHBvbGwgZm9yIGNvbXBsZXRpb24gb2YgZWFjaCBzdGVwLgovLyBUaGlzIHVzZXMgYSBQcm9taXNlIHRvIGJsb2NrIHRoZSBweXRob24gc2lkZSBvbiBjb21wbGV0aW9uIG9mIGVhY2ggc3RlcCwKLy8gdGhlbiBwYXNzZXMgdGhlIHJlc3VsdCBvZiB0aGUgcHJldmlvdXMgc3RlcCBhcyB0aGUgaW5wdXQgdG8gdGhlIG5leHQgc3RlcC4KZnVuY3Rpb24gX3VwbG9hZEZpbGVzQ29udGludWUob3V0cHV0SWQpIHsKICBjb25zdCBvdXRwdXRFbGVtZW50ID0gZG9jdW1lbnQuZ2V0RWxlbWVudEJ5SWQob3V0cHV0SWQpOwogIGNvbnN0IHN0ZXBzID0gb3V0cHV0RWxlbWVudC5zdGVwczsKCiAgY29uc3QgbmV4dCA9IHN0ZXBzLm5leHQob3V0cHV0RWxlbWVudC5sYXN0UHJvbWlzZVZhbHVlKTsKICByZXR1cm4gUHJvbWlzZS5yZXNvbHZlKG5leHQudmFsdWUucHJvbWlzZSkudGhlbigodmFsdWUpID0+IHsKICAgIC8vIENhY2hlIHRoZSBsYXN0IHByb21pc2UgdmFsdWUgdG8gbWFrZSBpdCBhdmFpbGFibGUgdG8gdGhlIG5leHQKICAgIC8vIHN0ZXAgb2YgdGhlIGdlbmVyYXRvci4KICAgIG91dHB1dEVsZW1lbnQubGFzdFByb21pc2VWYWx1ZSA9IHZhbHVlOwogICAgcmV0dXJuIG5leHQudmFsdWUucmVzcG9uc2U7CiAgfSk7Cn0KCi8qKgogKiBHZW5lcmF0b3IgZnVuY3Rpb24gd2hpY2ggaXMgY2FsbGVkIGJldHdlZW4gZWFjaCBhc3luYyBzdGVwIG9mIHRoZSB1cGxvYWQKICogcHJvY2Vzcy4KICogQHBhcmFtIHtzdHJpbmd9IGlucHV0SWQgRWxlbWVudCBJRCBvZiB0aGUgaW5wdXQgZmlsZSBwaWNrZXIgZWxlbWVudC4KICogQHBhcmFtIHtzdHJpbmd9IG91dHB1dElkIEVsZW1lbnQgSUQgb2YgdGhlIG91dHB1dCBkaXNwbGF5LgogKiBAcmV0dXJuIHshSXRlcmFibGU8IU9iamVjdD59IEl0ZXJhYmxlIG9mIG5leHQgc3RlcHMuCiAqLwpmdW5jdGlvbiogdXBsb2FkRmlsZXNTdGVwKGlucHV0SWQsIG91dHB1dElkKSB7CiAgY29uc3QgaW5wdXRFbGVtZW50ID0gZG9jdW1lbnQuZ2V0RWxlbWVudEJ5SWQoaW5wdXRJZCk7CiAgaW5wdXRFbGVtZW50LmRpc2FibGVkID0gZmFsc2U7CgogIGNvbnN0IG91dHB1dEVsZW1lbnQgPSBkb2N1bWVudC5nZXRFbGVtZW50QnlJZChvdXRwdXRJZCk7CiAgb3V0cHV0RWxlbWVudC5pbm5lckhUTUwgPSAnJzsKCiAgY29uc3QgcGlja2VkUHJvbWlzZSA9IG5ldyBQcm9taXNlKChyZXNvbHZlKSA9PiB7CiAgICBpbnB1dEVsZW1lbnQuYWRkRXZlbnRMaXN0ZW5lcignY2hhbmdlJywgKGUpID0+IHsKICAgICAgcmVzb2x2ZShlLnRhcmdldC5maWxlcyk7CiAgICB9KTsKICB9KTsKCiAgY29uc3QgY2FuY2VsID0gZG9jdW1lbnQuY3JlYXRlRWxlbWVudCgnYnV0dG9uJyk7CiAgaW5wdXRFbGVtZW50LnBhcmVudEVsZW1lbnQuYXBwZW5kQ2hpbGQoY2FuY2VsKTsKICBjYW5jZWwudGV4dENvbnRlbnQgPSAnQ2FuY2VsIHVwbG9hZCc7CiAgY29uc3QgY2FuY2VsUHJvbWlzZSA9IG5ldyBQcm9taXNlKChyZXNvbHZlKSA9PiB7CiAgICBjYW5jZWwub25jbGljayA9ICgpID0+IHsKICAgICAgcmVzb2x2ZShudWxsKTsKICAgIH07CiAgfSk7CgogIC8vIENhbmNlbCB1cGxvYWQgaWYgdXNlciBoYXNuJ3QgcGlja2VkIGFueXRoaW5nIGluIHRpbWVvdXQuCiAgY29uc3QgdGltZW91dFByb21pc2UgPSBuZXcgUHJvbWlzZSgocmVzb2x2ZSkgPT4gewogICAgc2V0VGltZW91dCgoKSA9PiB7CiAgICAgIHJlc29sdmUobnVsbCk7CiAgICB9LCBGSUxFX0NIQU5HRV9USU1FT1VUX01TKTsKICB9KTsKCiAgLy8gV2FpdCBmb3IgdGhlIHVzZXIgdG8gcGljayB0aGUgZmlsZXMuCiAgY29uc3QgZmlsZXMgPSB5aWVsZCB7CiAgICBwcm9taXNlOiBQcm9taXNlLnJhY2UoW3BpY2tlZFByb21pc2UsIHRpbWVvdXRQcm9taXNlLCBjYW5jZWxQcm9taXNlXSksCiAgICByZXNwb25zZTogewogICAgICBhY3Rpb246ICdzdGFydGluZycsCiAgICB9CiAgfTsKCiAgaWYgKCFmaWxlcykgewogICAgcmV0dXJuIHsKICAgICAgcmVzcG9uc2U6IHsKICAgICAgICBhY3Rpb246ICdjb21wbGV0ZScsCiAgICAgIH0KICAgIH07CiAgfQoKICBjYW5jZWwucmVtb3ZlKCk7CgogIC8vIERpc2FibGUgdGhlIGlucHV0IGVsZW1lbnQgc2luY2UgZnVydGhlciBwaWNrcyBhcmUgbm90IGFsbG93ZWQuCiAgaW5wdXRFbGVtZW50LmRpc2FibGVkID0gdHJ1ZTsKCiAgZm9yIChjb25zdCBmaWxlIG9mIGZpbGVzKSB7CiAgICBjb25zdCBsaSA9IGRvY3VtZW50LmNyZWF0ZUVsZW1lbnQoJ2xpJyk7CiAgICBsaS5hcHBlbmQoc3BhbihmaWxlLm5hbWUsIHtmb250V2VpZ2h0OiAnYm9sZCd9KSk7CiAgICBsaS5hcHBlbmQoc3BhbigKICAgICAgICBgKCR7ZmlsZS50eXBlIHx8ICduL2EnfSkgLSAke2ZpbGUuc2l6ZX0gYnl0ZXMsIGAgKwogICAgICAgIGBsYXN0IG1vZGlmaWVkOiAkewogICAgICAgICAgICBmaWxlLmxhc3RNb2RpZmllZERhdGUgPyBmaWxlLmxhc3RNb2RpZmllZERhdGUudG9Mb2NhbGVEYXRlU3RyaW5nKCkgOgogICAgICAgICAgICAgICAgICAgICAgICAgICAgICAgICAgICAnbi9hJ30gLSBgKSk7CiAgICBjb25zdCBwZXJjZW50ID0gc3BhbignMCUgZG9uZScpOwogICAgbGkuYXBwZW5kQ2hpbGQocGVyY2VudCk7CgogICAgb3V0cHV0RWxlbWVudC5hcHBlbmRDaGlsZChsaSk7CgogICAgY29uc3QgZmlsZURhdGFQcm9taXNlID0gbmV3IFByb21pc2UoKHJlc29sdmUpID0+IHsKICAgICAgY29uc3QgcmVhZGVyID0gbmV3IEZpbGVSZWFkZXIoKTsKICAgICAgcmVhZGVyLm9ubG9hZCA9IChlKSA9PiB7CiAgICAgICAgcmVzb2x2ZShlLnRhcmdldC5yZXN1bHQpOwogICAgICB9OwogICAgICByZWFkZXIucmVhZEFzQXJyYXlCdWZmZXIoZmlsZSk7CiAgICB9KTsKICAgIC8vIFdhaXQgZm9yIHRoZSBkYXRhIHRvIGJlIHJlYWR5LgogICAgbGV0IGZpbGVEYXRhID0geWllbGQgewogICAgICBwcm9taXNlOiBmaWxlRGF0YVByb21pc2UsCiAgICAgIHJlc3BvbnNlOiB7CiAgICAgICAgYWN0aW9uOiAnY29udGludWUnLAogICAgICB9CiAgICB9OwoKICAgIC8vIFVzZSBhIGNodW5rZWQgc2VuZGluZyB0byBhdm9pZCBtZXNzYWdlIHNpemUgbGltaXRzLiBTZWUgYi82MjExNTY2MC4KICAgIGxldCBwb3NpdGlvbiA9IDA7CiAgICB3aGlsZSAocG9zaXRpb24gPCBmaWxlRGF0YS5ieXRlTGVuZ3RoKSB7CiAgICAgIGNvbnN0IGxlbmd0aCA9IE1hdGgubWluKGZpbGVEYXRhLmJ5dGVMZW5ndGggLSBwb3NpdGlvbiwgTUFYX1BBWUxPQURfU0laRSk7CiAgICAgIGNvbnN0IGNodW5rID0gbmV3IFVpbnQ4QXJyYXkoZmlsZURhdGEsIHBvc2l0aW9uLCBsZW5ndGgpOwogICAgICBwb3NpdGlvbiArPSBsZW5ndGg7CgogICAgICBjb25zdCBiYXNlNjQgPSBidG9hKFN0cmluZy5mcm9tQ2hhckNvZGUuYXBwbHkobnVsbCwgY2h1bmspKTsKICAgICAgeWllbGQgewogICAgICAgIHJlc3BvbnNlOiB7CiAgICAgICAgICBhY3Rpb246ICdhcHBlbmQnLAogICAgICAgICAgZmlsZTogZmlsZS5uYW1lLAogICAgICAgICAgZGF0YTogYmFzZTY0LAogICAgICAgIH0sCiAgICAgIH07CiAgICAgIHBlcmNlbnQudGV4dENvbnRlbnQgPQogICAgICAgICAgYCR7TWF0aC5yb3VuZCgocG9zaXRpb24gLyBmaWxlRGF0YS5ieXRlTGVuZ3RoKSAqIDEwMCl9JSBkb25lYDsKICAgIH0KICB9CgogIC8vIEFsbCBkb25lLgogIHlpZWxkIHsKICAgIHJlc3BvbnNlOiB7CiAgICAgIGFjdGlvbjogJ2NvbXBsZXRlJywKICAgIH0KICB9Owp9CgpzY29wZS5nb29nbGUgPSBzY29wZS5nb29nbGUgfHwge307CnNjb3BlLmdvb2dsZS5jb2xhYiA9IHNjb3BlLmdvb2dsZS5jb2xhYiB8fCB7fTsKc2NvcGUuZ29vZ2xlLmNvbGFiLl9maWxlcyA9IHsKICBfdXBsb2FkRmlsZXMsCiAgX3VwbG9hZEZpbGVzQ29udGludWUsCn07Cn0pKHNlbGYpOwo=",
              "ok": true,
              "headers": [
                [
                  "content-type",
                  "application/javascript"
                ]
              ],
              "status": 200,
              "status_text": ""
            }
          },
          "base_uri": "https://localhost:8080/",
          "height": 88
        }
      },
      "source": [
        "from google.colab import files\n",
        "files.upload()  #this will prompt you to upload the kaggle.json\n"
      ],
      "execution_count": null,
      "outputs": [
        {
          "output_type": "display_data",
          "data": {
            "text/html": [
              "\n",
              "     <input type=\"file\" id=\"files-1b4c1e73-da40-4fa8-af6a-6af06ea19342\" name=\"files[]\" multiple disabled />\n",
              "     <output id=\"result-1b4c1e73-da40-4fa8-af6a-6af06ea19342\">\n",
              "      Upload widget is only available when the cell has been executed in the\n",
              "      current browser session. Please rerun this cell to enable.\n",
              "      </output>\n",
              "      <script src=\"/nbextensions/google.colab/files.js\"></script> "
            ],
            "text/plain": [
              "<IPython.core.display.HTML object>"
            ]
          },
          "metadata": {
            "tags": []
          }
        },
        {
          "output_type": "stream",
          "text": [
            "Saving kaggle.json to kaggle.json\n"
          ],
          "name": "stdout"
        },
        {
          "output_type": "execute_result",
          "data": {
            "text/plain": [
              "{'kaggle.json': b'{\"username\":\"esmeraldaypsilanti\",\"key\":\"efea1b7d08611736b606c62642cc42d1\"}'}"
            ]
          },
          "metadata": {
            "tags": []
          },
          "execution_count": 1
        }
      ]
    },
    {
      "cell_type": "code",
      "metadata": {
        "id": "keuwyi6yColN",
        "outputId": "9949332d-06e0-4e6c-a480-b1cbda39c3da",
        "colab": {
          "base_uri": "https://localhost:8080/",
          "height": 34
        }
      },
      "source": [
        "!pip install -q kaggle\n",
        "!mkdir -p ~/.kaggle\n",
        "!cp kaggle.json ~/.kaggle/\n",
        "!ls ~/.kaggle\n",
        "!chmod 600 /root/.kaggle/kaggle.json  # set permission"
      ],
      "execution_count": null,
      "outputs": [
        {
          "output_type": "stream",
          "text": [
            "kaggle.json\n"
          ],
          "name": "stdout"
        }
      ]
    },
    {
      "cell_type": "code",
      "metadata": {
        "id": "m3WWfGvMCrfZ",
        "outputId": "9d8debe0-304a-4bc0-cf8f-3879465872c3",
        "colab": {
          "base_uri": "https://localhost:8080/",
          "height": 394
        }
      },
      "source": [
        "!kaggle competitions download -c avito-demand-prediction -p /content/drive/My\\ Drive/avito_kaggle"
      ],
      "execution_count": null,
      "outputs": [
        {
          "output_type": "stream",
          "text": [
            "Warning: Looks like you're using an outdated API Version, please consider updating (server 1.5.6 / client 1.5.4)\n",
            "Downloading test_active.csv.zip to /content/drive/My Drive/avito_kaggle\n",
            " 99% 2.45G/2.46G [00:24<00:00, 132MB/s]\n",
            "100% 2.46G/2.46G [00:24<00:00, 108MB/s]\n",
            "test.csv.zip: Skipping, found more recently modified local copy (use --force to force download)\n",
            "train_jpg_2.zip: Skipping, found more recently modified local copy (use --force to force download)\n",
            "train_jpg_4.zip: Skipping, found more recently modified local copy (use --force to force download)\n",
            "periods_test.csv.zip: Skipping, found more recently modified local copy (use --force to force download)\n",
            "train.csv.zip: Skipping, found more recently modified local copy (use --force to force download)\n",
            "Downloading train_jpg.zip to /content/drive/My Drive/avito_kaggle\n",
            "100% 49.4G/49.4G [14:45<00:00, 39.3MB/s]\n",
            "100% 49.4G/49.4G [14:45<00:00, 59.9MB/s]\n",
            "periods_train.csv.zip: Skipping, found more recently modified local copy (use --force to force download)\n",
            "train_jpg_0.zip: Skipping, found more recently modified local copy (use --force to force download)\n",
            "sample_submission.csv.zip: Skipping, found more recently modified local copy (use --force to force download)\n",
            "Downloading train_jpg_3.zip to /content/drive/My Drive/avito_kaggle\n",
            "100% 9.92G/9.92G [05:27<00:00, 31.9MB/s]\n",
            "100% 9.92G/9.92G [05:27<00:00, 32.5MB/s]\n",
            "train_jpg_1.zip: Skipping, found more recently modified local copy (use --force to force download)\n",
            "test_jpg.zip: Skipping, found more recently modified local copy (use --force to force download)\n",
            "train_active.csv.zip: Skipping, found more recently modified local copy (use --force to force download)\n"
          ],
          "name": "stdout"
        }
      ]
    },
    {
      "cell_type": "code",
      "metadata": {
        "id": "5g7dEZj2H5L_",
        "outputId": "6a31181e-9046-452c-b7ab-760faeae1859",
        "colab": {
          "base_uri": "https://localhost:8080/",
          "height": 54
        }
      },
      "source": [
        "!cp \"/content/gdrive/My Drive/avito_kaggle/periods_test.cdv.zip\" \"/content/drive/My Drive/avito_kaggle\""
      ],
      "execution_count": null,
      "outputs": [
        {
          "output_type": "stream",
          "text": [
            "cp: cannot stat '/content/gdrive/My Drive/avito_kaggle/periods_test.cdv.zip': No such file or directory\n"
          ],
          "name": "stdout"
        }
      ]
    },
    {
      "cell_type": "code",
      "metadata": {
        "id": "87pOtDatDPoj"
      },
      "source": [
        "!unzip \"/content/drive/My\\ Drive/avito_kaggle/\n"
      ],
      "execution_count": null,
      "outputs": []
    },
    {
      "cell_type": "code",
      "metadata": {
        "id": "VRYBf_AmMleE",
        "outputId": "239a6149-e3d3-4197-d355-803d0d1454b9",
        "colab": {
          "base_uri": "https://localhost:8080/",
          "height": 85
        }
      },
      "source": [
        "#!unzip \"/content/gdrive/My Drive/AVITO/periods_test.csv.zip\" -d \"/content/gdrive/My Drive/AVITO\"\n",
        "#!unzip \"/content/gdrive/My Drive/AVITO/periods_train.csv.zip\" -d \"/content/gdrive/My Drive/AVITO\"\n",
        "#!unzip \"/content/gdrive/My Drive/AVITO/train.csv.zip\" -d \"/content/gdrive/My Drive/AVITO\"\n",
        "#!unzip \"/content/gdrive/My Drive/AVITO/test.csv.zip\" -d \"/content/gdrive/My Drive/AVITO\"\n",
        "#!unzip \"/content/gdrive/My Drive/AVITO/train_active.csv.zip\" -d \"/content/gdrive/My Drive/AVITO\"\n",
        "#unzip \"/content/gdrive/My Drive/AVITO/test_active.csv.zip\" -d \"/content/gdrive/My Drive/AVITO\"\n",
        "\n",
        "#!unzip \"/content/drive/My Drive/avito_kaggle/periods_test.csv.zip\" -d \"/content/drive/My Drive/avito_kaggle\"\n",
        "#!unzip \"/content/drive/My Drive/avito_kaggle/periods_train.csv.zip\" -d \"/content/drive/My Drive/avito_kaggle\"\n",
        "##!unzip \"/content/drive/My Drive/avito_kaggle/train.csv.zip\" -d \"/content/drive/My Drive/avito_kaggle\"\n",
        "##!unzip \"/content/drive/My Drive/avito_kaggle/test.csv.zip\" -d \"/content/drive/My Drive/avito_kaggle\"\n",
        "#!unzip \"/content/drive/My Drive/avito_kaggle/train_active.csv.zip\" -d \"/content/drive/My Drive/avito_kaggle\"\n",
        "#!unzip \"/content/drive/My Drive/avito_kaggle/test_active.csv.zip\" -d \"/content/drive/My Drive/avito_kaggle\""
      ],
      "execution_count": null,
      "outputs": [
        {
          "output_type": "stream",
          "text": [
            "Archive:  /content/drive/My Drive/avito_kaggle/train_active.csv.zip\n",
            "  inflating: /content/drive/My Drive/avito_kaggle/train_active.csv  \n",
            "Archive:  /content/drive/My Drive/avito_kaggle/test_active.csv.zip\n",
            "  inflating: /content/drive/My Drive/avito_kaggle/test_active.csv  \n"
          ],
          "name": "stdout"
        }
      ]
    },
    {
      "cell_type": "code",
      "metadata": {
        "id": "dRtR1hnKRr1d",
        "outputId": "4349cd1e-170d-49a5-e496-eb9978fcd528",
        "colab": {
          "base_uri": "https://localhost:8080/",
          "height": 71
        }
      },
      "source": [
        "import time\n",
        "notebookstart= time.time()\n",
        "\n",
        "import numpy as np # linear algebra\n",
        "import pandas as pd # data processing, CSV file I/O (e.g. pd.read_csv)\n",
        "import os\n",
        "import gc\n",
        "import random\n",
        "random.seed(2018)\n",
        "#print(\"Data:\\n\",os.listdir(\"../input\"))\n",
        "\n",
        "# Models Packages\n",
        "from sklearn import metrics\n",
        "from sklearn.metrics import mean_squared_error\n",
        "from sklearn import feature_selection\n",
        "from sklearn.model_selection import train_test_split\n",
        "from sklearn import preprocessing\n",
        "\n",
        "# Gradient Boosting\n",
        "import lightgbm as lgb\n",
        "from sklearn.linear_model import Ridge\n",
        "from sklearn.model_selection import KFold\n",
        "\n",
        "# Tf-Idf\n",
        "from sklearn.feature_extraction.text import CountVectorizer, TfidfVectorizer\n",
        "from sklearn.pipeline import FeatureUnion\n",
        "from scipy.sparse import hstack, csr_matrix\n",
        "from nltk.corpus import stopwords \n",
        "\n",
        "# Viz\n",
        "import seaborn as sns\n",
        "import matplotlib.pyplot as plt\n",
        "import re\n",
        "import string"
      ],
      "execution_count": null,
      "outputs": [
        {
          "output_type": "stream",
          "text": [
            "/usr/local/lib/python3.6/dist-packages/statsmodels/tools/_testing.py:19: FutureWarning: pandas.util.testing is deprecated. Use the functions in the public API at pandas.testing instead.\n",
            "  import pandas.util.testing as tm\n"
          ],
          "name": "stderr"
        }
      ]
    },
    {
      "cell_type": "code",
      "metadata": {
        "id": "WfYRmKQz0gT0",
        "outputId": "a5bec69a-bc49-4312-cefc-8c6940c92433",
        "colab": {
          "base_uri": "https://localhost:8080/",
          "height": 204
        }
      },
      "source": [
        "used_cols = ['item_id', 'user_id']\n",
        "\n",
        "train = pd.read_csv('/content/drive/My Drive/avito_kaggle/train.csv', usecols=used_cols)\n",
        "train_active = pd.read_csv('/content/drive/My Drive/avito_kaggle/train_active.csv', usecols=used_cols)\n",
        "test = pd.read_csv('/content/drive/My Drive/avito_kaggle/test.csv', usecols=used_cols)\n",
        "test_active = pd.read_csv('/content/drive/My Drive/avito_kaggle/test_active.csv', usecols=used_cols)\n",
        "\n",
        "train_periods = pd.read_csv('/content/drive/My Drive/avito_kaggle/periods_train.csv', parse_dates=['date_from', 'date_to'])\n",
        "test_periods = pd.read_csv('/content/drive/My Drive/avito_kaggle/periods_test.csv', parse_dates=['date_from', 'date_to'])\n",
        "\n",
        "train.head()"
      ],
      "execution_count": null,
      "outputs": [
        {
          "output_type": "execute_result",
          "data": {
            "text/html": [
              "<div>\n",
              "<style scoped>\n",
              "    .dataframe tbody tr th:only-of-type {\n",
              "        vertical-align: middle;\n",
              "    }\n",
              "\n",
              "    .dataframe tbody tr th {\n",
              "        vertical-align: top;\n",
              "    }\n",
              "\n",
              "    .dataframe thead th {\n",
              "        text-align: right;\n",
              "    }\n",
              "</style>\n",
              "<table border=\"1\" class=\"dataframe\">\n",
              "  <thead>\n",
              "    <tr style=\"text-align: right;\">\n",
              "      <th></th>\n",
              "      <th>item_id</th>\n",
              "      <th>user_id</th>\n",
              "    </tr>\n",
              "  </thead>\n",
              "  <tbody>\n",
              "    <tr>\n",
              "      <th>0</th>\n",
              "      <td>b912c3c6a6ad</td>\n",
              "      <td>e00f8ff2eaf9</td>\n",
              "    </tr>\n",
              "    <tr>\n",
              "      <th>1</th>\n",
              "      <td>2dac0150717d</td>\n",
              "      <td>39aeb48f0017</td>\n",
              "    </tr>\n",
              "    <tr>\n",
              "      <th>2</th>\n",
              "      <td>ba83aefab5dc</td>\n",
              "      <td>91e2f88dd6e3</td>\n",
              "    </tr>\n",
              "    <tr>\n",
              "      <th>3</th>\n",
              "      <td>02996f1dd2ea</td>\n",
              "      <td>bf5cccea572d</td>\n",
              "    </tr>\n",
              "    <tr>\n",
              "      <th>4</th>\n",
              "      <td>7c90be56d2ab</td>\n",
              "      <td>ef50846afc0b</td>\n",
              "    </tr>\n",
              "  </tbody>\n",
              "</table>\n",
              "</div>"
            ],
            "text/plain": [
              "        item_id       user_id\n",
              "0  b912c3c6a6ad  e00f8ff2eaf9\n",
              "1  2dac0150717d  39aeb48f0017\n",
              "2  ba83aefab5dc  91e2f88dd6e3\n",
              "3  02996f1dd2ea  bf5cccea572d\n",
              "4  7c90be56d2ab  ef50846afc0b"
            ]
          },
          "metadata": {
            "tags": []
          },
          "execution_count": 2
        }
      ]
    },
    {
      "cell_type": "code",
      "metadata": {
        "id": "oWxDfWvdmIqB"
      },
      "source": [
        "import pylab as plt\n",
        "from matplotlib_venn import venn2"
      ],
      "execution_count": null,
      "outputs": []
    },
    {
      "cell_type": "code",
      "metadata": {
        "id": "XoxPYJmYETg8",
        "outputId": "fd84ecaf-2326-4a5d-a18e-9e305af5935a",
        "colab": {
          "base_uri": "https://localhost:8080/",
          "height": 433
        }
      },
      "source": [
        "# Venn diagrams\n",
        "fig, axarr = plt.subplots(2, 2, figsize=(14, 7))\n",
        "\n",
        "def get_venn(axarr, feature):\n",
        "    axarr[0, 0].set_title(f'Overlap between {feature} in train and train_active')\n",
        "    venn2([\n",
        "        set(train[feature].values), \n",
        "        set(train_active[feature].values)\n",
        "    ], set_labels = ('train', 'train_active'), ax=axarr[0, 0])\n",
        "\n",
        "    axarr[0, 1].set_title(f'Overlap between {feature} in test and test_active')\n",
        "    venn2([\n",
        "        set(test[feature].values), \n",
        "        set(test_active[feature].values)\n",
        "    ], set_labels = ('test', 'test_active'), ax=axarr[0, 1])\n",
        "\n",
        "    axarr[1, 0].set_title(f'Overlap between {feature} in train and test')\n",
        "    venn2([\n",
        "        set(train[feature].values), \n",
        "        set(test[feature].values)\n",
        "    ], set_labels = ('train', 'test'), ax=axarr[1, 0])\n",
        "\n",
        "    axarr[1, 1].set_title(f'Overlap between {feature} in train_active and test_active')\n",
        "    venn2([\n",
        "        set(train_active[feature].values), \n",
        "        set(test_active[feature].values)\n",
        "    ], set_labels = ('train_active', 'test_active'), ax=axarr[1, 1])\n",
        "    \n",
        "get_venn(axarr, 'user_id')"
      ],
      "execution_count": null,
      "outputs": [
        {
          "output_type": "display_data",
          "data": {
            "image/png": "[encoded data removed]",
            "text/plain": [
              "<Figure size 1008x504 with 4 Axes>"
            ]
          },
          "metadata": {
            "tags": []
          }
        }
      ]
    },
    {
      "cell_type": "code",
      "metadata": {
        "id": "tGul_haxFa0r",
        "outputId": "f48ff552-985c-41cb-832a-4c43f6a0c1bd",
        "colab": {
          "base_uri": "https://localhost:8080/",
          "height": 433
        }
      },
      "source": [
        "fig, axarr = plt.subplots(2, 2, figsize=(14, 7))\n",
        "\n",
        "get_venn(axarr, 'item_id')"
      ],
      "execution_count": null,
      "outputs": [
        {
          "output_type": "display_data",
          "data": {
            "image/png": "[encoded data removed]",
            "text/plain": [
              "<Figure size 1008x504 with 4 Axes>"
            ]
          },
          "metadata": {
            "tags": []
          }
        }
      ]
    },
    {
      "cell_type": "code",
      "metadata": {
        "id": "P17AFCtn1AhC",
        "outputId": "b0ab78a8-d772-41fe-d685-914f181216b9",
        "colab": {
          "base_uri": "https://localhost:8080/",
          "height": 34
        }
      },
      "source": [
        "all_samples = pd.concat([\n",
        "    train,\n",
        "    train_active,\n",
        "    test,\n",
        "    test_active\n",
        "]).reset_index(drop=True)\n",
        "all_samples.drop_duplicates(['item_id'], inplace=True)\n",
        "\n",
        "del train_active\n",
        "del test_active\n",
        "gc.collect()"
      ],
      "execution_count": null,
      "outputs": [
        {
          "output_type": "execute_result",
          "data": {
            "text/plain": [
              "15"
            ]
          },
          "metadata": {
            "tags": []
          },
          "execution_count": 29
        }
      ]
    },
    {
      "cell_type": "code",
      "metadata": {
        "id": "KhEu4ysx1BaV",
        "outputId": "ddf0e72e-ff14-417b-d00b-9abfed0bd1db",
        "colab": {
          "base_uri": "https://localhost:8080/",
          "height": 204
        }
      },
      "source": [
        "all_periods = pd.concat([\n",
        "    train_periods,\n",
        "    test_periods\n",
        "])\n",
        "\n",
        "del train_periods\n",
        "del test_periods\n",
        "gc.collect()\n",
        "\n",
        "all_periods.head()"
      ],
      "execution_count": null,
      "outputs": [
        {
          "output_type": "execute_result",
          "data": {
            "text/html": [
              "<div>\n",
              "<style scoped>\n",
              "    .dataframe tbody tr th:only-of-type {\n",
              "        vertical-align: middle;\n",
              "    }\n",
              "\n",
              "    .dataframe tbody tr th {\n",
              "        vertical-align: top;\n",
              "    }\n",
              "\n",
              "    .dataframe thead th {\n",
              "        text-align: right;\n",
              "    }\n",
              "</style>\n",
              "<table border=\"1\" class=\"dataframe\">\n",
              "  <thead>\n",
              "    <tr style=\"text-align: right;\">\n",
              "      <th></th>\n",
              "      <th>item_id</th>\n",
              "      <th>activation_date</th>\n",
              "      <th>date_from</th>\n",
              "      <th>date_to</th>\n",
              "    </tr>\n",
              "  </thead>\n",
              "  <tbody>\n",
              "    <tr>\n",
              "      <th>0</th>\n",
              "      <td>8f5caef7afb0</td>\n",
              "      <td>2017-02-14</td>\n",
              "      <td>2017-03-15</td>\n",
              "      <td>2017-03-16</td>\n",
              "    </tr>\n",
              "    <tr>\n",
              "      <th>1</th>\n",
              "      <td>66218ff526d1</td>\n",
              "      <td>2017-02-16</td>\n",
              "      <td>2017-03-15</td>\n",
              "      <td>2017-03-18</td>\n",
              "    </tr>\n",
              "    <tr>\n",
              "      <th>2</th>\n",
              "      <td>b237d9539b21</td>\n",
              "      <td>2017-03-01</td>\n",
              "      <td>2017-03-15</td>\n",
              "      <td>2017-03-28</td>\n",
              "    </tr>\n",
              "    <tr>\n",
              "      <th>3</th>\n",
              "      <td>80bf58082ad3</td>\n",
              "      <td>2017-03-19</td>\n",
              "      <td>2017-03-19</td>\n",
              "      <td>2017-03-28</td>\n",
              "    </tr>\n",
              "    <tr>\n",
              "      <th>4</th>\n",
              "      <td>67a9944a7373</td>\n",
              "      <td>2017-03-14</td>\n",
              "      <td>2017-03-15</td>\n",
              "      <td>2017-03-28</td>\n",
              "    </tr>\n",
              "  </tbody>\n",
              "</table>\n",
              "</div>"
            ],
            "text/plain": [
              "        item_id activation_date  date_from    date_to\n",
              "0  8f5caef7afb0      2017-02-14 2017-03-15 2017-03-16\n",
              "1  66218ff526d1      2017-02-16 2017-03-15 2017-03-18\n",
              "2  b237d9539b21      2017-03-01 2017-03-15 2017-03-28\n",
              "3  80bf58082ad3      2017-03-19 2017-03-19 2017-03-28\n",
              "4  67a9944a7373      2017-03-14 2017-03-15 2017-03-28"
            ]
          },
          "metadata": {
            "tags": []
          },
          "execution_count": 30
        }
      ]
    },
    {
      "cell_type": "code",
      "metadata": {
        "id": "K6vSUege1FD3"
      },
      "source": [
        "all_periods['days_up'] = all_periods['date_to'].dt.dayofyear - all_periods['date_from'].dt.dayofyear"
      ],
      "execution_count": null,
      "outputs": []
    },
    {
      "cell_type": "code",
      "metadata": {
        "id": "dfX8UztL1KPN",
        "outputId": "8446b91c-c32a-4ed9-e6cc-087cf9abbec0",
        "colab": {
          "base_uri": "https://localhost:8080/",
          "height": 204
        }
      },
      "source": [
        "gp = all_periods.groupby(['item_id'])[['days_up']]\n",
        "\n",
        "gp_df = pd.DataFrame()\n",
        "gp_df['days_up_sum'] = gp.sum()['days_up']\n",
        "gp_df['times_put_up'] = gp.count()['days_up']\n",
        "gp_df.reset_index(inplace=True)\n",
        "gp_df.rename(index=str, columns={'index': 'item_id'})\n",
        "\n",
        "gp_df.head()"
      ],
      "execution_count": null,
      "outputs": [
        {
          "output_type": "execute_result",
          "data": {
            "text/html": [
              "<div>\n",
              "<style scoped>\n",
              "    .dataframe tbody tr th:only-of-type {\n",
              "        vertical-align: middle;\n",
              "    }\n",
              "\n",
              "    .dataframe tbody tr th {\n",
              "        vertical-align: top;\n",
              "    }\n",
              "\n",
              "    .dataframe thead th {\n",
              "        text-align: right;\n",
              "    }\n",
              "</style>\n",
              "<table border=\"1\" class=\"dataframe\">\n",
              "  <thead>\n",
              "    <tr style=\"text-align: right;\">\n",
              "      <th></th>\n",
              "      <th>item_id</th>\n",
              "      <th>days_up_sum</th>\n",
              "      <th>times_put_up</th>\n",
              "    </tr>\n",
              "  </thead>\n",
              "  <tbody>\n",
              "    <tr>\n",
              "      <th>0</th>\n",
              "      <td>00000077ff21</td>\n",
              "      <td>13</td>\n",
              "      <td>1</td>\n",
              "    </tr>\n",
              "    <tr>\n",
              "      <th>1</th>\n",
              "      <td>000002c54018</td>\n",
              "      <td>6</td>\n",
              "      <td>1</td>\n",
              "    </tr>\n",
              "    <tr>\n",
              "      <th>2</th>\n",
              "      <td>000005570503</td>\n",
              "      <td>1</td>\n",
              "      <td>1</td>\n",
              "    </tr>\n",
              "    <tr>\n",
              "      <th>3</th>\n",
              "      <td>0000060018e6</td>\n",
              "      <td>6</td>\n",
              "      <td>1</td>\n",
              "    </tr>\n",
              "    <tr>\n",
              "      <th>4</th>\n",
              "      <td>000006497719</td>\n",
              "      <td>19</td>\n",
              "      <td>2</td>\n",
              "    </tr>\n",
              "  </tbody>\n",
              "</table>\n",
              "</div>"
            ],
            "text/plain": [
              "        item_id  days_up_sum  times_put_up\n",
              "0  00000077ff21           13             1\n",
              "1  000002c54018            6             1\n",
              "2  000005570503            1             1\n",
              "3  0000060018e6            6             1\n",
              "4  000006497719           19             2"
            ]
          },
          "metadata": {
            "tags": []
          },
          "execution_count": 32
        }
      ]
    },
    {
      "cell_type": "code",
      "metadata": {
        "id": "s3iG8Zp41M94",
        "outputId": "75e99f50-752e-4cbb-bb32-68a3cbaa90d4",
        "colab": {
          "base_uri": "https://localhost:8080/",
          "height": 204
        }
      },
      "source": [
        "all_periods.drop_duplicates(['item_id'], inplace=True)\n",
        "all_periods = all_periods.merge(gp_df, on='item_id', how='left')\n",
        "all_periods.head()"
      ],
      "execution_count": null,
      "outputs": [
        {
          "output_type": "execute_result",
          "data": {
            "text/html": [
              "<div>\n",
              "<style scoped>\n",
              "    .dataframe tbody tr th:only-of-type {\n",
              "        vertical-align: middle;\n",
              "    }\n",
              "\n",
              "    .dataframe tbody tr th {\n",
              "        vertical-align: top;\n",
              "    }\n",
              "\n",
              "    .dataframe thead th {\n",
              "        text-align: right;\n",
              "    }\n",
              "</style>\n",
              "<table border=\"1\" class=\"dataframe\">\n",
              "  <thead>\n",
              "    <tr style=\"text-align: right;\">\n",
              "      <th></th>\n",
              "      <th>item_id</th>\n",
              "      <th>activation_date</th>\n",
              "      <th>date_from</th>\n",
              "      <th>date_to</th>\n",
              "      <th>days_up</th>\n",
              "      <th>days_up_sum</th>\n",
              "      <th>times_put_up</th>\n",
              "    </tr>\n",
              "  </thead>\n",
              "  <tbody>\n",
              "    <tr>\n",
              "      <th>0</th>\n",
              "      <td>8f5caef7afb0</td>\n",
              "      <td>2017-02-14</td>\n",
              "      <td>2017-03-15</td>\n",
              "      <td>2017-03-16</td>\n",
              "      <td>1</td>\n",
              "      <td>17</td>\n",
              "      <td>4</td>\n",
              "    </tr>\n",
              "    <tr>\n",
              "      <th>1</th>\n",
              "      <td>66218ff526d1</td>\n",
              "      <td>2017-02-16</td>\n",
              "      <td>2017-03-15</td>\n",
              "      <td>2017-03-18</td>\n",
              "      <td>3</td>\n",
              "      <td>18</td>\n",
              "      <td>3</td>\n",
              "    </tr>\n",
              "    <tr>\n",
              "      <th>2</th>\n",
              "      <td>b237d9539b21</td>\n",
              "      <td>2017-03-01</td>\n",
              "      <td>2017-03-15</td>\n",
              "      <td>2017-03-28</td>\n",
              "      <td>13</td>\n",
              "      <td>19</td>\n",
              "      <td>2</td>\n",
              "    </tr>\n",
              "    <tr>\n",
              "      <th>3</th>\n",
              "      <td>80bf58082ad3</td>\n",
              "      <td>2017-03-19</td>\n",
              "      <td>2017-03-19</td>\n",
              "      <td>2017-03-28</td>\n",
              "      <td>9</td>\n",
              "      <td>17</td>\n",
              "      <td>4</td>\n",
              "    </tr>\n",
              "    <tr>\n",
              "      <th>4</th>\n",
              "      <td>67a9944a7373</td>\n",
              "      <td>2017-03-14</td>\n",
              "      <td>2017-03-15</td>\n",
              "      <td>2017-03-28</td>\n",
              "      <td>13</td>\n",
              "      <td>18</td>\n",
              "      <td>3</td>\n",
              "    </tr>\n",
              "  </tbody>\n",
              "</table>\n",
              "</div>"
            ],
            "text/plain": [
              "        item_id activation_date  date_from  ... days_up  days_up_sum  times_put_up\n",
              "0  8f5caef7afb0      2017-02-14 2017-03-15  ...       1           17             4\n",
              "1  66218ff526d1      2017-02-16 2017-03-15  ...       3           18             3\n",
              "2  b237d9539b21      2017-03-01 2017-03-15  ...      13           19             2\n",
              "3  80bf58082ad3      2017-03-19 2017-03-19  ...       9           17             4\n",
              "4  67a9944a7373      2017-03-14 2017-03-15  ...      13           18             3\n",
              "\n",
              "[5 rows x 7 columns]"
            ]
          },
          "metadata": {
            "tags": []
          },
          "execution_count": 33
        }
      ]
    },
    {
      "cell_type": "code",
      "metadata": {
        "id": "Qr163THn1PeT",
        "outputId": "ff8e6405-4f02-4b11-945b-e15100ccba21",
        "colab": {
          "base_uri": "https://localhost:8080/",
          "height": 289
        }
      },
      "source": [
        "all_periods = all_periods.merge(all_samples, on='item_id', how='left')\n",
        "all_periods.head()"
      ],
      "execution_count": null,
      "outputs": [
        {
          "output_type": "execute_result",
          "data": {
            "text/html": [
              "<div>\n",
              "<style scoped>\n",
              "    .dataframe tbody tr th:only-of-type {\n",
              "        vertical-align: middle;\n",
              "    }\n",
              "\n",
              "    .dataframe tbody tr th {\n",
              "        vertical-align: top;\n",
              "    }\n",
              "\n",
              "    .dataframe thead th {\n",
              "        text-align: right;\n",
              "    }\n",
              "</style>\n",
              "<table border=\"1\" class=\"dataframe\">\n",
              "  <thead>\n",
              "    <tr style=\"text-align: right;\">\n",
              "      <th></th>\n",
              "      <th>item_id</th>\n",
              "      <th>activation_date</th>\n",
              "      <th>date_from</th>\n",
              "      <th>date_to</th>\n",
              "      <th>days_up</th>\n",
              "      <th>days_up_sum</th>\n",
              "      <th>times_put_up</th>\n",
              "      <th>user_id</th>\n",
              "    </tr>\n",
              "  </thead>\n",
              "  <tbody>\n",
              "    <tr>\n",
              "      <th>0</th>\n",
              "      <td>8f5caef7afb0</td>\n",
              "      <td>2017-02-14</td>\n",
              "      <td>2017-03-15</td>\n",
              "      <td>2017-03-16</td>\n",
              "      <td>1</td>\n",
              "      <td>17</td>\n",
              "      <td>4</td>\n",
              "      <td>e292cce69842</td>\n",
              "    </tr>\n",
              "    <tr>\n",
              "      <th>1</th>\n",
              "      <td>66218ff526d1</td>\n",
              "      <td>2017-02-16</td>\n",
              "      <td>2017-03-15</td>\n",
              "      <td>2017-03-18</td>\n",
              "      <td>3</td>\n",
              "      <td>18</td>\n",
              "      <td>3</td>\n",
              "      <td>a326c04a24ec</td>\n",
              "    </tr>\n",
              "    <tr>\n",
              "      <th>2</th>\n",
              "      <td>b237d9539b21</td>\n",
              "      <td>2017-03-01</td>\n",
              "      <td>2017-03-15</td>\n",
              "      <td>2017-03-28</td>\n",
              "      <td>13</td>\n",
              "      <td>19</td>\n",
              "      <td>2</td>\n",
              "      <td>06d275498a56</td>\n",
              "    </tr>\n",
              "    <tr>\n",
              "      <th>3</th>\n",
              "      <td>80bf58082ad3</td>\n",
              "      <td>2017-03-19</td>\n",
              "      <td>2017-03-19</td>\n",
              "      <td>2017-03-28</td>\n",
              "      <td>9</td>\n",
              "      <td>17</td>\n",
              "      <td>4</td>\n",
              "      <td>831c8c4a622c</td>\n",
              "    </tr>\n",
              "    <tr>\n",
              "      <th>4</th>\n",
              "      <td>67a9944a7373</td>\n",
              "      <td>2017-03-14</td>\n",
              "      <td>2017-03-15</td>\n",
              "      <td>2017-03-28</td>\n",
              "      <td>13</td>\n",
              "      <td>18</td>\n",
              "      <td>3</td>\n",
              "      <td>248102e50d79</td>\n",
              "    </tr>\n",
              "  </tbody>\n",
              "</table>\n",
              "</div>"
            ],
            "text/plain": [
              "        item_id activation_date  ... times_put_up       user_id\n",
              "0  8f5caef7afb0      2017-02-14  ...            4  e292cce69842\n",
              "1  66218ff526d1      2017-02-16  ...            3  a326c04a24ec\n",
              "2  b237d9539b21      2017-03-01  ...            2  06d275498a56\n",
              "3  80bf58082ad3      2017-03-19  ...            4  831c8c4a622c\n",
              "4  67a9944a7373      2017-03-14  ...            3  248102e50d79\n",
              "\n",
              "[5 rows x 8 columns]"
            ]
          },
          "metadata": {
            "tags": []
          },
          "execution_count": 34
        }
      ]
    },
    {
      "cell_type": "code",
      "metadata": {
        "id": "qmDRqYH31Tqg",
        "outputId": "dec61acb-dd3c-4cdb-9eda-9c8fd25e3d08",
        "colab": {
          "base_uri": "https://localhost:8080/",
          "height": 204
        }
      },
      "source": [
        "gp = all_periods.groupby(['user_id'])[['days_up_sum', 'times_put_up']].mean().reset_index() \\\n",
        "    .rename(index=str, columns={\n",
        "        'days_up_sum': 'avg_days_up_user',\n",
        "        'times_put_up': 'avg_times_up_user'\n",
        "    })\n",
        "gp.head()"
      ],
      "execution_count": null,
      "outputs": [
        {
          "output_type": "execute_result",
          "data": {
            "text/html": [
              "<div>\n",
              "<style scoped>\n",
              "    .dataframe tbody tr th:only-of-type {\n",
              "        vertical-align: middle;\n",
              "    }\n",
              "\n",
              "    .dataframe tbody tr th {\n",
              "        vertical-align: top;\n",
              "    }\n",
              "\n",
              "    .dataframe thead th {\n",
              "        text-align: right;\n",
              "    }\n",
              "</style>\n",
              "<table border=\"1\" class=\"dataframe\">\n",
              "  <thead>\n",
              "    <tr style=\"text-align: right;\">\n",
              "      <th></th>\n",
              "      <th>user_id</th>\n",
              "      <th>avg_days_up_user</th>\n",
              "      <th>avg_times_up_user</th>\n",
              "    </tr>\n",
              "  </thead>\n",
              "  <tbody>\n",
              "    <tr>\n",
              "      <th>0</th>\n",
              "      <td>00000077ff21</td>\n",
              "      <td>12.5</td>\n",
              "      <td>2.00</td>\n",
              "    </tr>\n",
              "    <tr>\n",
              "      <th>1</th>\n",
              "      <td>000006497719</td>\n",
              "      <td>19.0</td>\n",
              "      <td>2.00</td>\n",
              "    </tr>\n",
              "    <tr>\n",
              "      <th>2</th>\n",
              "      <td>00000b4d72f6</td>\n",
              "      <td>3.0</td>\n",
              "      <td>1.00</td>\n",
              "    </tr>\n",
              "    <tr>\n",
              "      <th>3</th>\n",
              "      <td>00000d642d7e</td>\n",
              "      <td>13.0</td>\n",
              "      <td>1.00</td>\n",
              "    </tr>\n",
              "    <tr>\n",
              "      <th>4</th>\n",
              "      <td>0000126b80a4</td>\n",
              "      <td>12.0</td>\n",
              "      <td>1.75</td>\n",
              "    </tr>\n",
              "  </tbody>\n",
              "</table>\n",
              "</div>"
            ],
            "text/plain": [
              "        user_id  avg_days_up_user  avg_times_up_user\n",
              "0  00000077ff21              12.5               2.00\n",
              "1  000006497719              19.0               2.00\n",
              "2  00000b4d72f6               3.0               1.00\n",
              "3  00000d642d7e              13.0               1.00\n",
              "4  0000126b80a4              12.0               1.75"
            ]
          },
          "metadata": {
            "tags": []
          },
          "execution_count": 35
        }
      ]
    },
    {
      "cell_type": "code",
      "metadata": {
        "id": "IQMoSQf51WhI",
        "outputId": "950a5eda-7206-4c64-c12e-3aa540a179e6",
        "colab": {
          "base_uri": "https://localhost:8080/",
          "height": 204
        }
      },
      "source": [
        "n_user_items = all_samples.groupby(['user_id'])[['item_id']].count().reset_index() \\\n",
        "    .rename(index=str, columns={\n",
        "        'item_id': 'n_user_items'\n",
        "    })\n",
        "gp = gp.merge(n_user_items, on='user_id', how='outer')\n",
        "\n",
        "gp.head()"
      ],
      "execution_count": null,
      "outputs": [
        {
          "output_type": "execute_result",
          "data": {
            "text/html": [
              "<div>\n",
              "<style scoped>\n",
              "    .dataframe tbody tr th:only-of-type {\n",
              "        vertical-align: middle;\n",
              "    }\n",
              "\n",
              "    .dataframe tbody tr th {\n",
              "        vertical-align: top;\n",
              "    }\n",
              "\n",
              "    .dataframe thead th {\n",
              "        text-align: right;\n",
              "    }\n",
              "</style>\n",
              "<table border=\"1\" class=\"dataframe\">\n",
              "  <thead>\n",
              "    <tr style=\"text-align: right;\">\n",
              "      <th></th>\n",
              "      <th>user_id</th>\n",
              "      <th>avg_days_up_user</th>\n",
              "      <th>avg_times_up_user</th>\n",
              "      <th>n_user_items</th>\n",
              "    </tr>\n",
              "  </thead>\n",
              "  <tbody>\n",
              "    <tr>\n",
              "      <th>0</th>\n",
              "      <td>00000077ff21</td>\n",
              "      <td>12.5</td>\n",
              "      <td>2.00</td>\n",
              "      <td>2</td>\n",
              "    </tr>\n",
              "    <tr>\n",
              "      <th>1</th>\n",
              "      <td>000006497719</td>\n",
              "      <td>19.0</td>\n",
              "      <td>2.00</td>\n",
              "      <td>1</td>\n",
              "    </tr>\n",
              "    <tr>\n",
              "      <th>2</th>\n",
              "      <td>00000b4d72f6</td>\n",
              "      <td>3.0</td>\n",
              "      <td>1.00</td>\n",
              "      <td>1</td>\n",
              "    </tr>\n",
              "    <tr>\n",
              "      <th>3</th>\n",
              "      <td>00000d642d7e</td>\n",
              "      <td>13.0</td>\n",
              "      <td>1.00</td>\n",
              "      <td>2</td>\n",
              "    </tr>\n",
              "    <tr>\n",
              "      <th>4</th>\n",
              "      <td>0000126b80a4</td>\n",
              "      <td>12.0</td>\n",
              "      <td>1.75</td>\n",
              "      <td>8</td>\n",
              "    </tr>\n",
              "  </tbody>\n",
              "</table>\n",
              "</div>"
            ],
            "text/plain": [
              "        user_id  avg_days_up_user  avg_times_up_user  n_user_items\n",
              "0  00000077ff21              12.5               2.00             2\n",
              "1  000006497719              19.0               2.00             1\n",
              "2  00000b4d72f6               3.0               1.00             1\n",
              "3  00000d642d7e              13.0               1.00             2\n",
              "4  0000126b80a4              12.0               1.75             8"
            ]
          },
          "metadata": {
            "tags": []
          },
          "execution_count": 36
        }
      ]
    },
    {
      "cell_type": "code",
      "metadata": {
        "id": "tWrHTeQB1a0k"
      },
      "source": [
        "gp.to_csv('aggregated_feats.csv', index=False)"
      ],
      "execution_count": null,
      "outputs": []
    },
    {
      "cell_type": "code",
      "metadata": {
        "id": "DTpwH3EnbKEv"
      },
      "source": [
        "!cp \"aggregated_feats.csv\" \"/content/drive/My Drive/avito_kaggle\""
      ],
      "execution_count": null,
      "outputs": []
    },
    {
      "cell_type": "code",
      "metadata": {
        "id": "KsoDdGqa1fU8",
        "outputId": "b3f5ef5c-1672-4b03-81ca-707904d8066a",
        "colab": {
          "base_uri": "https://localhost:8080/",
          "height": 34
        }
      },
      "source": [
        "del all_samples\n",
        "del all_periods\n",
        "del train\n",
        "del test\n",
        "\n",
        "gc.collect()"
      ],
      "execution_count": null,
      "outputs": [
        {
          "output_type": "execute_result",
          "data": {
            "text/plain": [
              "44"
            ]
          },
          "metadata": {
            "tags": []
          },
          "execution_count": 39
        }
      ]
    },
    {
      "cell_type": "code",
      "metadata": {
        "id": "7T_Bl-X01hvG",
        "outputId": "f44c6205-0d92-497c-b751-d866901c25df",
        "colab": {
          "base_uri": "https://localhost:8080/",
          "height": 377
        }
      },
      "source": [
        "train = pd.read_csv('/content/drive/My Drive/avito_kaggle/train.csv')\n",
        "test = pd.read_csv('/content/drive/My Drive/avito_kaggle/test.csv')\n",
        "\n",
        "train = train.merge(gp, on='user_id', how='left')\n",
        "test = test.merge(gp, on='user_id', how='left')\n",
        "\n",
        "agg_cols = list(gp.columns)[1:]\n",
        "\n",
        "del gp\n",
        "gc.collect()\n",
        "\n",
        "train.head()"
      ],
      "execution_count": null,
      "outputs": [
        {
          "output_type": "execute_result",
          "data": {
            "text/html": [
              "<div>\n",
              "<style scoped>\n",
              "    .dataframe tbody tr th:only-of-type {\n",
              "        vertical-align: middle;\n",
              "    }\n",
              "\n",
              "    .dataframe tbody tr th {\n",
              "        vertical-align: top;\n",
              "    }\n",
              "\n",
              "    .dataframe thead th {\n",
              "        text-align: right;\n",
              "    }\n",
              "</style>\n",
              "<table border=\"1\" class=\"dataframe\">\n",
              "  <thead>\n",
              "    <tr style=\"text-align: right;\">\n",
              "      <th></th>\n",
              "      <th>item_id</th>\n",
              "      <th>user_id</th>\n",
              "      <th>region</th>\n",
              "      <th>city</th>\n",
              "      <th>parent_category_name</th>\n",
              "      <th>category_name</th>\n",
              "      <th>param_1</th>\n",
              "      <th>param_2</th>\n",
              "      <th>param_3</th>\n",
              "      <th>title</th>\n",
              "      <th>description</th>\n",
              "      <th>price</th>\n",
              "      <th>item_seq_number</th>\n",
              "      <th>activation_date</th>\n",
              "      <th>user_type</th>\n",
              "      <th>image</th>\n",
              "      <th>image_top_1</th>\n",
              "      <th>deal_probability</th>\n",
              "      <th>avg_days_up_user</th>\n",
              "      <th>avg_times_up_user</th>\n",
              "      <th>n_user_items</th>\n",
              "    </tr>\n",
              "  </thead>\n",
              "  <tbody>\n",
              "    <tr>\n",
              "      <th>0</th>\n",
              "      <td>b912c3c6a6ad</td>\n",
              "      <td>e00f8ff2eaf9</td>\n",
              "      <td>Свердловская область</td>\n",
              "      <td>Екатеринбург</td>\n",
              "      <td>Личные вещи</td>\n",
              "      <td>Товары для детей и игрушки</td>\n",
              "      <td>Постельные принадлежности</td>\n",
              "      <td>NaN</td>\n",
              "      <td>NaN</td>\n",
              "      <td>Кокоби(кокон для сна)</td>\n",
              "      <td>Кокон для сна малыша,пользовались меньше месяц...</td>\n",
              "      <td>400.0</td>\n",
              "      <td>2</td>\n",
              "      <td>2017-03-28</td>\n",
              "      <td>Private</td>\n",
              "      <td>d10c7e016e03247a3bf2d13348fe959fe6f436c1caf64c...</td>\n",
              "      <td>1008.0</td>\n",
              "      <td>0.12789</td>\n",
              "      <td>8.000000</td>\n",
              "      <td>2.000000</td>\n",
              "      <td>2</td>\n",
              "    </tr>\n",
              "    <tr>\n",
              "      <th>1</th>\n",
              "      <td>2dac0150717d</td>\n",
              "      <td>39aeb48f0017</td>\n",
              "      <td>Самарская область</td>\n",
              "      <td>Самара</td>\n",
              "      <td>Для дома и дачи</td>\n",
              "      <td>Мебель и интерьер</td>\n",
              "      <td>Другое</td>\n",
              "      <td>NaN</td>\n",
              "      <td>NaN</td>\n",
              "      <td>Стойка для Одежды</td>\n",
              "      <td>Стойка для одежды, под вешалки. С бутика.</td>\n",
              "      <td>3000.0</td>\n",
              "      <td>19</td>\n",
              "      <td>2017-03-26</td>\n",
              "      <td>Private</td>\n",
              "      <td>79c9392cc51a9c81c6eb91eceb8e552171db39d7142700...</td>\n",
              "      <td>692.0</td>\n",
              "      <td>0.00000</td>\n",
              "      <td>NaN</td>\n",
              "      <td>NaN</td>\n",
              "      <td>1</td>\n",
              "    </tr>\n",
              "    <tr>\n",
              "      <th>2</th>\n",
              "      <td>ba83aefab5dc</td>\n",
              "      <td>91e2f88dd6e3</td>\n",
              "      <td>Ростовская область</td>\n",
              "      <td>Ростов-на-Дону</td>\n",
              "      <td>Бытовая электроника</td>\n",
              "      <td>Аудио и видео</td>\n",
              "      <td>Видео, DVD и Blu-ray плееры</td>\n",
              "      <td>NaN</td>\n",
              "      <td>NaN</td>\n",
              "      <td>Philips bluray</td>\n",
              "      <td>В хорошем состоянии, домашний кинотеатр с blu ...</td>\n",
              "      <td>4000.0</td>\n",
              "      <td>9</td>\n",
              "      <td>2017-03-20</td>\n",
              "      <td>Private</td>\n",
              "      <td>b7f250ee3f39e1fedd77c141f273703f4a9be59db4b48a...</td>\n",
              "      <td>3032.0</td>\n",
              "      <td>0.43177</td>\n",
              "      <td>4.428571</td>\n",
              "      <td>1.142857</td>\n",
              "      <td>9</td>\n",
              "    </tr>\n",
              "    <tr>\n",
              "      <th>3</th>\n",
              "      <td>02996f1dd2ea</td>\n",
              "      <td>bf5cccea572d</td>\n",
              "      <td>Татарстан</td>\n",
              "      <td>Набережные Челны</td>\n",
              "      <td>Личные вещи</td>\n",
              "      <td>Товары для детей и игрушки</td>\n",
              "      <td>Автомобильные кресла</td>\n",
              "      <td>NaN</td>\n",
              "      <td>NaN</td>\n",
              "      <td>Автокресло</td>\n",
              "      <td>Продам кресло от0-25кг</td>\n",
              "      <td>2200.0</td>\n",
              "      <td>286</td>\n",
              "      <td>2017-03-25</td>\n",
              "      <td>Company</td>\n",
              "      <td>e6ef97e0725637ea84e3d203e82dadb43ed3cc0a1c8413...</td>\n",
              "      <td>796.0</td>\n",
              "      <td>0.80323</td>\n",
              "      <td>16.714286</td>\n",
              "      <td>2.642857</td>\n",
              "      <td>32</td>\n",
              "    </tr>\n",
              "    <tr>\n",
              "      <th>4</th>\n",
              "      <td>7c90be56d2ab</td>\n",
              "      <td>ef50846afc0b</td>\n",
              "      <td>Волгоградская область</td>\n",
              "      <td>Волгоград</td>\n",
              "      <td>Транспорт</td>\n",
              "      <td>Автомобили</td>\n",
              "      <td>С пробегом</td>\n",
              "      <td>ВАЗ (LADA)</td>\n",
              "      <td>2110</td>\n",
              "      <td>ВАЗ 2110, 2003</td>\n",
              "      <td>Все вопросы по телефону.</td>\n",
              "      <td>40000.0</td>\n",
              "      <td>3</td>\n",
              "      <td>2017-03-16</td>\n",
              "      <td>Private</td>\n",
              "      <td>54a687a3a0fc1d68aed99bdaaf551c5c70b761b16fd0a2...</td>\n",
              "      <td>2264.0</td>\n",
              "      <td>0.20797</td>\n",
              "      <td>NaN</td>\n",
              "      <td>NaN</td>\n",
              "      <td>1</td>\n",
              "    </tr>\n",
              "  </tbody>\n",
              "</table>\n",
              "</div>"
            ],
            "text/plain": [
              "        item_id       user_id  ... avg_times_up_user n_user_items\n",
              "0  b912c3c6a6ad  e00f8ff2eaf9  ...          2.000000            2\n",
              "1  2dac0150717d  39aeb48f0017  ...               NaN            1\n",
              "2  ba83aefab5dc  91e2f88dd6e3  ...          1.142857            9\n",
              "3  02996f1dd2ea  bf5cccea572d  ...          2.642857           32\n",
              "4  7c90be56d2ab  ef50846afc0b  ...               NaN            1\n",
              "\n",
              "[5 rows x 21 columns]"
            ]
          },
          "metadata": {
            "tags": []
          },
          "execution_count": 40
        }
      ]
    },
    {
      "cell_type": "code",
      "metadata": {
        "id": "0dIM_vGr1mNm",
        "outputId": "8bb7cc83-a42a-4795-c1c9-7ce9122d46eb",
        "colab": {
          "base_uri": "https://localhost:8080/",
          "height": 34
        }
      },
      "source": [
        "train[agg_cols].isna().any(axis=1).sum() / len(train) * 100"
      ],
      "execution_count": null,
      "outputs": [
        {
          "output_type": "execute_result",
          "data": {
            "text/plain": [
              "22.407185198586692"
            ]
          },
          "metadata": {
            "tags": []
          },
          "execution_count": 41
        }
      ]
    },
    {
      "cell_type": "code",
      "metadata": {
        "id": "vGEYZxsw1pse",
        "outputId": "b89b56c0-315a-48a0-8567-a80c8a4cf982",
        "colab": {
          "base_uri": "https://localhost:8080/",
          "height": 34
        }
      },
      "source": [
        "test[agg_cols].isna().any(axis=1).sum() / len(test) * 100"
      ],
      "execution_count": null,
      "outputs": [
        {
          "output_type": "execute_result",
          "data": {
            "text/plain": [
              "24.354198545348694"
            ]
          },
          "metadata": {
            "tags": []
          },
          "execution_count": 42
        }
      ]
    },
    {
      "cell_type": "code",
      "metadata": {
        "id": "u5d83ETu1sHq"
      },
      "source": [
        "count = lambda l1,l2: sum([1 for x in l1 if x in l2])\n",
        "\n",
        "\n",
        "for df in [train, test]:\n",
        "    df['description'].fillna('unknowndescription', inplace=True)\n",
        "    df['title'].fillna('unknowntitle', inplace=True)\n",
        "\n",
        "    df['weekday'] = pd.to_datetime(df['activation_date']).dt.day\n",
        "    \n",
        "    for col in ['description', 'title']:\n",
        "        df['num_words_' + col] = df[col].apply(lambda comment: len(comment.split()))\n",
        "        df['num_unique_words_' + col] = df[col].apply(lambda comment: len(set(w for w in comment.split())))\n",
        "\n",
        "    df['words_vs_unique_title'] = df['num_unique_words_title'] / df['num_words_title'] * 100\n",
        "    df['words_vs_unique_description'] = df['num_unique_words_description'] / df['num_words_description'] * 100\n",
        "    \n",
        "    df['city'] = df['region'] + '_' + df['city']\n",
        "    df['num_desc_punct'] = df['description'].apply(lambda x: count(x, set(string.punctuation)))\n",
        "    \n",
        "    for col in agg_cols:\n",
        "        df[col].fillna(-1, inplace=True)"
      ],
      "execution_count": null,
      "outputs": []
    },
    {
      "cell_type": "code",
      "metadata": {
        "id": "7tHr1eqab7Wd",
        "outputId": "f9c0ae28-070c-479e-b615-1ee5c5fcb15c",
        "colab": {
          "base_uri": "https://localhost:8080/",
          "height": 105
        }
      },
      "source": [
        "!python -m nltk.downloader stopwords"
      ],
      "execution_count": null,
      "outputs": [
        {
          "output_type": "stream",
          "text": [
            "/usr/lib/python3.6/runpy.py:125: RuntimeWarning: 'nltk.downloader' found in sys.modules after import of package 'nltk', but prior to execution of 'nltk.downloader'; this may result in unpredictable behaviour\n",
            "  warn(RuntimeWarning(msg))\n",
            "[nltk_data] Downloading package stopwords to /root/nltk_data...\n",
            "[nltk_data]   Package stopwords is already up-to-date!\n"
          ],
          "name": "stdout"
        }
      ]
    },
    {
      "cell_type": "code",
      "metadata": {
        "id": "5-QsWdpk1vfU",
        "outputId": "3e21b45b-552c-47a5-f25f-ddf0cc874f00",
        "colab": {
          "base_uri": "https://localhost:8080/",
          "height": 34
        }
      },
      "source": [
        "count_vectorizer_title = CountVectorizer(stop_words=stopwords.words('russian'), lowercase=True, min_df=25)\n",
        "\n",
        "title_counts = count_vectorizer_title.fit_transform(train['title'].append(test['title']))\n",
        "\n",
        "train_title_counts = title_counts[:len(train)]\n",
        "test_title_counts = title_counts[len(train):]\n",
        "\n",
        "\n",
        "count_vectorizer_desc = TfidfVectorizer(stop_words=stopwords.words('russian'), \n",
        "                                        lowercase=True, ngram_range=(1, 2),\n",
        "                                        max_features=15000)\n",
        "\n",
        "desc_counts = count_vectorizer_desc.fit_transform(train['description'].append(test['description']))\n",
        "\n",
        "train_desc_counts = desc_counts[:len(train)]\n",
        "test_desc_counts = desc_counts[len(train):]\n",
        "\n",
        "train_title_counts.shape, train_desc_counts.shape"
      ],
      "execution_count": null,
      "outputs": [
        {
          "output_type": "execute_result",
          "data": {
            "text/plain": [
              "((1503424, 16447), (1503424, 15000))"
            ]
          },
          "metadata": {
            "tags": []
          },
          "execution_count": 45
        }
      ]
    },
    {
      "cell_type": "code",
      "metadata": {
        "id": "VM299Zid1ys_"
      },
      "source": [
        "target = 'deal_probability'\n",
        "predictors = [\n",
        "    'num_desc_punct', \n",
        "    'words_vs_unique_description', 'num_unique_words_description', 'num_unique_words_title', 'num_words_description', 'num_words_title',\n",
        "    'avg_times_up_user', 'avg_days_up_user', 'n_user_items', \n",
        "    'price', 'item_seq_number'\n",
        "]\n",
        "categorical = [\n",
        "    'image_top_1', 'param_1', 'param_2', 'param_3', \n",
        "    'city', 'region', 'category_name', 'parent_category_name', 'user_type'\n",
        "]\n",
        "\n",
        "predictors = predictors + categorical"
      ],
      "execution_count": null,
      "outputs": []
    },
    {
      "cell_type": "code",
      "metadata": {
        "id": "89mXCnY2dfBo"
      },
      "source": [
        "from sklearn.preprocessing import LabelEncoder"
      ],
      "execution_count": null,
      "outputs": []
    },
    {
      "cell_type": "code",
      "metadata": {
        "id": "qqygXRfX12Cf",
        "outputId": "e52e44d5-7fef-4f8f-a540-8bcb47e053f4",
        "colab": {
          "base_uri": "https://localhost:8080/",
          "height": 170
        }
      },
      "source": [
        "for feature in categorical:\n",
        "    print(f'Transforming {feature}...')\n",
        "    encoder = LabelEncoder()\n",
        "    encoder.fit(train[feature].append(test[feature]).astype(str))\n",
        "    \n",
        "    train[feature] = encoder.transform(train[feature].astype(str))\n",
        "    test[feature] = encoder.transform(test[feature].astype(str))"
      ],
      "execution_count": null,
      "outputs": [
        {
          "output_type": "stream",
          "text": [
            "Transforming image_top_1...\n",
            "Transforming param_1...\n",
            "Transforming param_2...\n",
            "Transforming param_3...\n",
            "Transforming city...\n",
            "Transforming region...\n",
            "Transforming category_name...\n",
            "Transforming parent_category_name...\n",
            "Transforming user_type...\n"
          ],
          "name": "stdout"
        }
      ]
    },
    {
      "cell_type": "code",
      "metadata": {
        "id": "7taRyZ9u1440",
        "outputId": "fa93b780-7301-4b9c-96f3-72efe39f7c06",
        "colab": {
          "base_uri": "https://localhost:8080/",
          "height": 34
        }
      },
      "source": [
        "rounds = 16000\n",
        "early_stop_rounds = 500\n",
        "params = {\n",
        "    'objective' : 'regression',\n",
        "    'metric' : 'rmse',\n",
        "    'num_leaves' : 32,\n",
        "    'max_depth': 15,\n",
        "    'learning_rate' : 0.02,\n",
        "    'feature_fraction' : 0.6,\n",
        "    'verbosity' : -1\n",
        "}\n",
        "\n",
        "feature_names = np.hstack([\n",
        "    count_vectorizer_desc.get_feature_names(),\n",
        "    count_vectorizer_title.get_feature_names(),\n",
        "    predictors\n",
        "])\n",
        "print('Number of features:', len(feature_names))"
      ],
      "execution_count": null,
      "outputs": [
        {
          "output_type": "stream",
          "text": [
            "Number of features: 31467\n"
          ],
          "name": "stdout"
        }
      ]
    },
    {
      "cell_type": "code",
      "metadata": {
        "id": "iwYMt3Ynd271"
      },
      "source": [
        "import scipy"
      ],
      "execution_count": null,
      "outputs": []
    },
    {
      "cell_type": "code",
      "metadata": {
        "id": "yQOqnEho1967"
      },
      "source": [
        "train_index, valid_index = train_test_split(np.arange(len(train)), test_size=0.1, random_state=42)\n",
        "\n",
        "x_train = scipy.sparse.hstack([\n",
        "        train_desc_counts[train_index],\n",
        "        train_title_counts[train_index],\n",
        "        train.loc[train_index, predictors]\n",
        "], format='csr')\n",
        "y_train = train.loc[train_index, target]\n",
        "\n",
        "x_valid = scipy.sparse.hstack([\n",
        "    train_desc_counts[valid_index],\n",
        "    train_title_counts[valid_index],\n",
        "    train.loc[valid_index, predictors]\n",
        "], format='csr')\n",
        "y_valid = train.loc[valid_index, target]\n",
        "\n",
        "x_test = scipy.sparse.hstack([\n",
        "    test_desc_counts,\n",
        "    test_title_counts,\n",
        "    test.loc[:, predictors]\n",
        "], format='csr')\n",
        "\n",
        "dtrain = lgb.Dataset(x_train, label=y_train,\n",
        "                     feature_name=list(feature_names), \n",
        "                     categorical_feature=categorical)\n",
        "dvalid = lgb.Dataset(x_valid, label=y_valid,\n",
        "                     feature_name=list(feature_names), \n",
        "                     categorical_feature=categorical)"
      ],
      "execution_count": null,
      "outputs": []
    },
    {
      "cell_type": "code",
      "metadata": {
        "id": "32rWAB3c2A-9",
        "outputId": "429ed537-6866-40d6-dee8-8de17a106fae",
        "colab": {
          "base_uri": "https://localhost:8080/",
          "height": 700
        }
      },
      "source": [
        "evals_result = {}\n",
        "model = lgb.train(params, dtrain, \n",
        "                  valid_sets=[dtrain, dvalid], \n",
        "                  valid_names=['train', 'valid'],\n",
        "                  num_boost_round=rounds, \n",
        "                  early_stopping_rounds=early_stop_rounds, \n",
        "                  verbose_eval=500)"
      ],
      "execution_count": null,
      "outputs": [
        {
          "output_type": "stream",
          "text": [
            "/usr/local/lib/python3.6/dist-packages/lightgbm/basic.py:1205: UserWarning: Using categorical_feature in Dataset.\n",
            "  warnings.warn('Using categorical_feature in Dataset.')\n",
            "/usr/local/lib/python3.6/dist-packages/lightgbm/basic.py:762: UserWarning: categorical_feature in param dict is overridden.\n",
            "  warnings.warn('categorical_feature in param dict is overridden.')\n"
          ],
          "name": "stderr"
        },
        {
          "output_type": "stream",
          "text": [
            "Training until validation scores don't improve for 500 rounds.\n",
            "[500]\ttrain's rmse: 0.220192\tvalid's rmse: 0.223264\n",
            "[1000]\ttrain's rmse: 0.216927\tvalid's rmse: 0.221589\n",
            "[1500]\ttrain's rmse: 0.21491\tvalid's rmse: 0.220782\n",
            "[2000]\ttrain's rmse: 0.213416\tvalid's rmse: 0.220284\n",
            "[2500]\ttrain's rmse: 0.212189\tvalid's rmse: 0.219943\n",
            "[3000]\ttrain's rmse: 0.211113\tvalid's rmse: 0.219701\n",
            "[3500]\ttrain's rmse: 0.210156\tvalid's rmse: 0.219506\n",
            "[4000]\ttrain's rmse: 0.20928\tvalid's rmse: 0.219361\n",
            "[4500]\ttrain's rmse: 0.208412\tvalid's rmse: 0.219229\n",
            "[5000]\ttrain's rmse: 0.207642\tvalid's rmse: 0.219129\n",
            "[5500]\ttrain's rmse: 0.206904\tvalid's rmse: 0.219034\n",
            "[6000]\ttrain's rmse: 0.206182\tvalid's rmse: 0.218957\n",
            "[6500]\ttrain's rmse: 0.205486\tvalid's rmse: 0.218891\n",
            "[7000]\ttrain's rmse: 0.204824\tvalid's rmse: 0.218821\n",
            "[7500]\ttrain's rmse: 0.204159\tvalid's rmse: 0.218757\n",
            "[8000]\ttrain's rmse: 0.203522\tvalid's rmse: 0.218705\n",
            "[8500]\ttrain's rmse: 0.202901\tvalid's rmse: 0.218651\n",
            "[9000]\ttrain's rmse: 0.202286\tvalid's rmse: 0.218603\n",
            "[9500]\ttrain's rmse: 0.201688\tvalid's rmse: 0.218559\n",
            "[10000]\ttrain's rmse: 0.201105\tvalid's rmse: 0.21852\n",
            "[10500]\ttrain's rmse: 0.200537\tvalid's rmse: 0.218471\n",
            "[11000]\ttrain's rmse: 0.2\tvalid's rmse: 0.218446\n",
            "[11500]\ttrain's rmse: 0.199449\tvalid's rmse: 0.218407\n",
            "[12000]\ttrain's rmse: 0.198912\tvalid's rmse: 0.218382\n",
            "[12500]\ttrain's rmse: 0.198384\tvalid's rmse: 0.218347\n",
            "[13000]\ttrain's rmse: 0.197887\tvalid's rmse: 0.218327\n",
            "[13500]\ttrain's rmse: 0.197395\tvalid's rmse: 0.218307\n",
            "[14000]\ttrain's rmse: 0.196902\tvalid's rmse: 0.218288\n",
            "[14500]\ttrain's rmse: 0.196426\tvalid's rmse: 0.218274\n",
            "[15000]\ttrain's rmse: 0.195941\tvalid's rmse: 0.218256\n",
            "[15500]\ttrain's rmse: 0.195469\tvalid's rmse: 0.218238\n",
            "[16000]\ttrain's rmse: 0.194999\tvalid's rmse: 0.218234\n",
            "Did not meet early stopping. Best iteration is:\n",
            "[16000]\ttrain's rmse: 0.194999\tvalid's rmse: 0.218234\n"
          ],
          "name": "stdout"
        }
      ]
    },
    {
      "cell_type": "code",
      "metadata": {
        "id": "xQjZdV6w2EsE",
        "outputId": "3ee14b89-a89c-4bd8-e7f3-e960dd353e4e",
        "colab": {
          "base_uri": "https://localhost:8080/",
          "height": 856
        }
      },
      "source": [
        "fig, ax = plt.subplots(figsize=(10, 14))\n",
        "lgb.plot_importance(model, max_num_features=50, ax=ax)\n",
        "plt.title(\"Light GBM Feature Importance\")"
      ],
      "execution_count": null,
      "outputs": [
        {
          "output_type": "execute_result",
          "data": {
            "text/plain": [
              "Text(0.5, 1.0, 'Light GBM Feature Importance')"
            ]
          },
          "metadata": {
            "tags": []
          },
          "execution_count": 53
        },
        {
          "output_type": "display_data",
          "data": {
            "image/png": "[encoded data removed]",
            "text/plain": [
              "<Figure size 720x1008 with 1 Axes>"
            ]
          },
          "metadata": {
            "tags": []
          }
        }
      ]
    },
    {
      "cell_type": "code",
      "metadata": {
        "id": "AlQYejCqiy-k",
        "outputId": "0f826325-378e-48fd-e237-da3c033c7996",
        "colab": {
          "base_uri": "https://localhost:8080/",
          "height": 68
        }
      },
      "source": [
        "!unzip '/content/drive/My Drive/avito_kaggle/sample_submission.csv.zip'"
      ],
      "execution_count": null,
      "outputs": [
        {
          "output_type": "stream",
          "text": [
            "Archive:  /content/drive/My Drive/avito_kaggle/sample_submission.csv.zip\n",
            "replace sample_submission.csv? [y]es, [n]o, [A]ll, [N]one, [r]ename: y\n",
            "  inflating: sample_submission.csv   \n"
          ],
          "name": "stdout"
        }
      ]
    },
    {
      "cell_type": "code",
      "metadata": {
        "id": "pHEeiok_k_Zc"
      },
      "source": [
        "!cp \"sample_submission.csv\" \"/content/drive/My Drive/avito_kaggle\""
      ],
      "execution_count": null,
      "outputs": []
    },
    {
      "cell_type": "code",
      "metadata": {
        "id": "wl1Hkx3F2IeA"
      },
      "source": [
        "subm = pd.read_csv('/content/drive/My Drive/avito_kaggle/sample_submission.csv')\n",
        "subm['deal_probability'] = np.clip(model.predict(x_test), 0, 1)\n",
        "subm.to_csv('submission1.csv', index=False)"
      ],
      "execution_count": null,
      "outputs": []
    },
    {
      "cell_type": "code",
      "metadata": {
        "id": "Huu8xhVdTt1K"
      },
      "source": [
        "!cp \"submission1.csv\" \"/content/drive/My Drive/avito_kaggle\""
      ],
      "execution_count": null,
      "outputs": []
    },
    {
      "cell_type": "code",
      "metadata": {
        "id": "hAoA5myMnx_5"
      },
      "source": [
        ""
      ],
      "execution_count": null,
      "outputs": []
    }
  ]
}